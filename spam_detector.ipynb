{
 "cells": [
  {
   "cell_type": "code",
   "execution_count": 14,
   "id": "c4fa3353",
   "metadata": {},
   "outputs": [
    {
     "data": {
      "text/html": [
       "<div>\n",
       "<style scoped>\n",
       "    .dataframe tbody tr th:only-of-type {\n",
       "        vertical-align: middle;\n",
       "    }\n",
       "\n",
       "    .dataframe tbody tr th {\n",
       "        vertical-align: top;\n",
       "    }\n",
       "\n",
       "    .dataframe thead th {\n",
       "        text-align: right;\n",
       "    }\n",
       "</style>\n",
       "<table border=\"1\" class=\"dataframe\">\n",
       "  <thead>\n",
       "    <tr style=\"text-align: right;\">\n",
       "      <th></th>\n",
       "      <th>label</th>\n",
       "      <th>message</th>\n",
       "    </tr>\n",
       "  </thead>\n",
       "  <tbody>\n",
       "    <tr>\n",
       "      <th>0</th>\n",
       "      <td>ham</td>\n",
       "      <td>Go until jurong point, crazy.. Available only ...</td>\n",
       "    </tr>\n",
       "    <tr>\n",
       "      <th>1</th>\n",
       "      <td>ham</td>\n",
       "      <td>Ok lar... Joking wif u oni...</td>\n",
       "    </tr>\n",
       "    <tr>\n",
       "      <th>2</th>\n",
       "      <td>spam</td>\n",
       "      <td>Free entry in 2 a wkly comp to win FA Cup fina...</td>\n",
       "    </tr>\n",
       "    <tr>\n",
       "      <th>3</th>\n",
       "      <td>ham</td>\n",
       "      <td>U dun say so early hor... U c already then say...</td>\n",
       "    </tr>\n",
       "    <tr>\n",
       "      <th>4</th>\n",
       "      <td>ham</td>\n",
       "      <td>Nah I don't think he goes to usf, he lives aro...</td>\n",
       "    </tr>\n",
       "  </tbody>\n",
       "</table>\n",
       "</div>"
      ],
      "text/plain": [
       "  label                                            message\n",
       "0   ham  Go until jurong point, crazy.. Available only ...\n",
       "1   ham                      Ok lar... Joking wif u oni...\n",
       "2  spam  Free entry in 2 a wkly comp to win FA Cup fina...\n",
       "3   ham  U dun say so early hor... U c already then say...\n",
       "4   ham  Nah I don't think he goes to usf, he lives aro..."
      ]
     },
     "execution_count": 14,
     "metadata": {},
     "output_type": "execute_result"
    }
   ],
   "source": [
    "import pandas as pd\n",
    "\n",
    "url = \"https://raw.githubusercontent.com/justmarkham/pycon-2016-tutorial/master/data/sms.tsv\"\n",
    "df = pd.read_csv(url, sep='\\t', header=None, names=['label', 'message'])\n",
    "\n",
    "df.head()"
   ]
  },
  {
   "cell_type": "code",
   "execution_count": 15,
   "id": "13ba0992-f24e-4d0b-8a37-a57e2b2a3b7f",
   "metadata": {},
   "outputs": [
    {
     "name": "stdout",
     "output_type": "stream",
     "text": [
      "Preprocessing done. Training data shape: (4457, 9544)\n"
     ]
    }
   ],
   "source": [
    "import string\n",
    "from sklearn.model_selection import train_test_split\n",
    "from sklearn.feature_extraction.text import CountVectorizer\n",
    "\n",
    "# Clean the message text\n",
    "def clean_text(text):\n",
    "    text = text.lower()                        # lowercase\n",
    "    text = \"\".join([char for char in text if char not in string.punctuation])  # remove punctuation\n",
    "    return text\n",
    "\n",
    "df['clean_message'] = df['message'].apply(clean_text)\n",
    "\n",
    "# Convert labels to binary values: spam = 1, ham = 0\n",
    "df['label_num'] = df['label'].map({'ham': 0, 'spam': 1})\n",
    "\n",
    "# Split data\n",
    "X = df['clean_message']\n",
    "y = df['label_num']\n",
    "\n",
    "# Vectorize text (Bag of Words model)\n",
    "vectorizer = CountVectorizer()\n",
    "X_vectorized = vectorizer.fit_transform(X)\n",
    "\n",
    "# Train-test split\n",
    "X_train, X_test, y_train, y_test = train_test_split(X_vectorized, y, test_size=0.2, random_state=42)\n",
    "\n",
    "print(\"Preprocessing done. Training data shape:\", X_train.shape)"
   ]
  },
  {
   "cell_type": "code",
   "execution_count": 16,
   "id": "f2014514-d5b3-4716-a61e-8b7d38add233",
   "metadata": {},
   "outputs": [
    {
     "name": "stdout",
     "output_type": "stream",
     "text": [
      "Accuracy: 0.98\n",
      "\n",
      "Classification Report:\n",
      "               precision    recall  f1-score   support\n",
      "\n",
      "           0       0.99      0.99      0.99       966\n",
      "           1       0.93      0.94      0.93       149\n",
      "\n",
      "    accuracy                           0.98      1115\n",
      "   macro avg       0.96      0.96      0.96      1115\n",
      "weighted avg       0.98      0.98      0.98      1115\n",
      "\n"
     ]
    }
   ],
   "source": [
    "from sklearn.naive_bayes import MultinomialNB\n",
    "from sklearn.metrics import accuracy_score, classification_report\n",
    "\n",
    "# Create and train the model\n",
    "model = MultinomialNB()\n",
    "model.fit(X_train, y_train)\n",
    "\n",
    "# Predict on test data\n",
    "y_pred = model.predict(X_test)\n",
    "\n",
    "# Evaluate the model\n",
    "accuracy = accuracy_score(y_test, y_pred)\n",
    "print(f\"Accuracy: {accuracy:.2f}\")\n",
    "print(\"\\nClassification Report:\\n\", classification_report(y_test, y_pred))"
   ]
  },
  {
   "cell_type": "code",
   "execution_count": 17,
   "id": "6d21627c-5bae-4b07-90dc-0fc6943f493f",
   "metadata": {},
   "outputs": [
    {
     "name": "stdout",
     "output_type": "stream",
     "text": [
      "Prediction: Spam\n"
     ]
    }
   ],
   "source": [
    "def predict_message(msg):\n",
    "    cleaned = clean_text(msg)\n",
    "    vector = vectorizer.transform([cleaned])\n",
    "    prediction = model.predict(vector)[0]\n",
    "    return \"Spam\" if prediction == 1 else \"Ham\"\n",
    "\n",
    "# Example usage:\n",
    "test_msg = \"Congratulations! You have won a free iPhone. Click now!\"\n",
    "print(\"Prediction:\", predict_message(test_msg))"
   ]
  },
  {
   "cell_type": "code",
   "execution_count": 18,
   "id": "167c7195-f80a-407d-9139-52674da92a77",
   "metadata": {},
   "outputs": [
    {
     "name": "stdout",
     "output_type": "stream",
     "text": [
      "Prediction: Ham\n"
     ]
    }
   ],
   "source": [
    "def predict_message(msg):\n",
    "    cleaned = clean_text(msg)\n",
    "    vector = vectorizer.transform([cleaned])\n",
    "    prediction = model.predict(vector)[0]\n",
    "    return \"Spam\" if prediction == 1 else \"yes\"\n",
    "\n",
    "# Example usage:\n",
    "test_msg = \"hey,are we meeting for lunch today\"\n",
    "print(\"Prediction:\", predict_message(test_msg))"
   ]
  },
  {
   "cell_type": "code",
   "execution_count": 19,
   "id": "2544327a-1e13-4e34-b30d-156a1fd52f25",
   "metadata": {},
   "outputs": [
    {
     "name": "stdout",
     "output_type": "stream",
     "text": [
      "Prediction: yes\n"
     ]
    }
   ],
   "source": [
    "def predict_message(msg):\n",
    "    cleaned = clean_text(msg)\n",
    "    vector = vectorizer.transform([cleaned])\n",
    "    prediction = model.predict(vector)[0]\n",
    "    return \"Spam\" if prediction == 1 else \"yes\"\n",
    "\n",
    "# Example usage:\n",
    "test_msg = \"who are you?\"\n",
    "print(\"Prediction:\", predict_message(test_msg))"
   ]
  },
  {
   "cell_type": "code",
   "execution_count": 21,
   "id": "f9759b0c-28b1-4a32-a6ed-eab314664ebb",
   "metadata": {},
   "outputs": [
    {
     "name": "stdout",
     "output_type": "stream",
     "text": [
      "Prediction: Spam\n"
     ]
    }
   ],
   "source": [
    "def predict_message(msg):\n",
    "    cleaned = clean_text(msg)\n",
    "    vector = vectorizer.transform([cleaned])\n",
    "    prediction = model.predict(vector)[0]\n",
    "    return \"Spam\" if prediction == 1 else \"Ham\"\n",
    "\n",
    "# Example usage:\n",
    "test_msg = \"URGENT! your account will be deactivated unless you verify yourself.\"\n",
    "print(\"Prediction:\", predict_message(test_msg))"
   ]
  },
  {
   "cell_type": "code",
   "execution_count": null,
   "id": "e879000d-14e8-4fd2-87a6-905f4bd6823c",
   "metadata": {},
   "outputs": [],
   "source": []
  }
 ],
 "metadata": {
  "kernelspec": {
   "display_name": "Python 3 (ipykernel)",
   "language": "python",
   "name": "python3"
  },
  "language_info": {
   "codemirror_mode": {
    "name": "ipython",
    "version": 3
   },
   "file_extension": ".py",
   "mimetype": "text/x-python",
   "name": "python",
   "nbconvert_exporter": "python",
   "pygments_lexer": "ipython3",
   "version": "3.13.4"
  }
 },
 "nbformat": 4,
 "nbformat_minor": 5
}
